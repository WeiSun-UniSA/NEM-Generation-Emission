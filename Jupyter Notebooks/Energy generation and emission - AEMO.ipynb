{
 "cells": [
  {
   "cell_type": "code",
   "execution_count": 1,
   "id": "f3c0ae30",
   "metadata": {
    "ExecuteTime": {
     "end_time": "2024-07-01T03:11:47.765794Z",
     "start_time": "2024-07-01T03:11:47.537097Z"
    }
   },
   "outputs": [],
   "source": [
    "import pandas as pd\n",
    "import datetime"
   ]
  },
  {
   "cell_type": "code",
   "execution_count": 2,
   "id": "5cae1b54",
   "metadata": {
    "ExecuteTime": {
     "end_time": "2024-07-01T03:11:48.006594Z",
     "start_time": "2024-07-01T03:11:48.002628Z"
    }
   },
   "outputs": [],
   "source": [
    "file_path_onedrive = '/Volumes/System/Users/weisun/OneDrive/AER work'\n",
    "file_path_external = '/Volumes/EnergyData/AER'"
   ]
  },
  {
   "cell_type": "code",
   "execution_count": 3,
   "id": "cd8e899c",
   "metadata": {
    "ExecuteTime": {
     "end_time": "2024-07-01T03:11:48.663939Z",
     "start_time": "2024-07-01T03:11:48.520687Z"
    }
   },
   "outputs": [],
   "source": [
    "# Get YearMonth to FY mapping dict\n",
    "YearMonthFY = pd.read_excel(f'{file_path_external}/Reference_data/duidinfo_SRMC.xlsx',\n",
    "                         sheet_name='YearMonthFY').set_index(['Year','Month'])['FY'].to_dict()"
   ]
  },
  {
   "cell_type": "code",
   "execution_count": 9,
   "id": "9349451d",
   "metadata": {
    "ExecuteTime": {
     "end_time": "2024-07-01T03:14:26.224619Z",
     "start_time": "2024-07-01T03:14:26.214603Z"
    }
   },
   "outputs": [],
   "source": [
    "def read_and_process_aemo_gen_emission(file_path_onedrive,YearMonthFY,Year):\n",
    "    temp_df = pd.read_csv(f'{file_path_onedrive}/Electricity emission/AEMO_CO2EII/CO2EII_SUMMARY_RESULTS_{Year}.CSV',\n",
    "                          skiprows=1,\n",
    "                          usecols=['SETTLEMENTDATE','REGIONID','TOTAL_SENT_OUT_ENERGY','TOTAL_EMISSIONS'],\n",
    "                          parse_dates=['SETTLEMENTDATE'],dayfirst=True)\\\n",
    "                .dropna(subset=['REGIONID'])\\\n",
    "                .rename(columns={'TOTAL_SENT_OUT_ENERGY':'ACTUAL_GEN',\n",
    "                                 'TOTAL_EMISSIONS':'EMISSION'})\n",
    "    temp_df = temp_df[temp_df['REGIONID'].isin(['NSW1','QLD1','VIC1','SA1','TAS1'])]\n",
    "    \n",
    "    temp_df['SETTLEMENTDATE'] = pd.to_datetime(temp_df['SETTLEMENTDATE'])\n",
    "    temp_df['Year'] = temp_df['SETTLEMENTDATE'].apply(lambda x: x.year)\n",
    "    temp_df['Month'] = temp_df['SETTLEMENTDATE'].apply(lambda x:x.month)\n",
    "    temp_df['FY'] = temp_df.apply(lambda row: YearMonthFY[(row['Year'],row['Month'])],axis=1)\n",
    "    temp_df = temp_df.groupby(by=['REGIONID','FY','Year','Month'],as_index=False)[['ACTUAL_GEN','EMISSION']].sum()\n",
    "    return temp_df"
   ]
  },
  {
   "cell_type": "code",
   "execution_count": 13,
   "id": "043fc8bb",
   "metadata": {
    "ExecuteTime": {
     "end_time": "2024-07-01T03:15:29.070236Z",
     "start_time": "2024-07-01T03:15:28.823295Z"
    }
   },
   "outputs": [
    {
     "name": "stderr",
     "output_type": "stream",
     "text": [
      "/var/folders/xt/rmsbqlvs2vz9v3p1pyby_p0w0000gn/T/ipykernel_4905/3272811214.py:2: UserWarning: Parsing dates in %Y/%m/%d %H:%M:%S format when dayfirst=True was specified. Pass `dayfirst=False` or specify a format to silence this warning.\n",
      "  temp_df = pd.read_csv(f'{file_path_onedrive}/Electricity emission/AEMO_CO2EII/CO2EII_SUMMARY_RESULTS_{Year}.CSV',\n",
      "/var/folders/xt/rmsbqlvs2vz9v3p1pyby_p0w0000gn/T/ipykernel_4905/3272811214.py:2: UserWarning: Parsing dates in %Y/%m/%d %H:%M:%S format when dayfirst=True was specified. Pass `dayfirst=False` or specify a format to silence this warning.\n",
      "  temp_df = pd.read_csv(f'{file_path_onedrive}/Electricity emission/AEMO_CO2EII/CO2EII_SUMMARY_RESULTS_{Year}.CSV',\n",
      "/var/folders/xt/rmsbqlvs2vz9v3p1pyby_p0w0000gn/T/ipykernel_4905/3272811214.py:2: UserWarning: Parsing dates in %Y/%m/%d %H:%M:%S format when dayfirst=True was specified. Pass `dayfirst=False` or specify a format to silence this warning.\n",
      "  temp_df = pd.read_csv(f'{file_path_onedrive}/Electricity emission/AEMO_CO2EII/CO2EII_SUMMARY_RESULTS_{Year}.CSV',\n",
      "/var/folders/xt/rmsbqlvs2vz9v3p1pyby_p0w0000gn/T/ipykernel_4905/3272811214.py:2: UserWarning: Parsing dates in %Y/%m/%d %H:%M:%S format when dayfirst=True was specified. Pass `dayfirst=False` or specify a format to silence this warning.\n",
      "  temp_df = pd.read_csv(f'{file_path_onedrive}/Electricity emission/AEMO_CO2EII/CO2EII_SUMMARY_RESULTS_{Year}.CSV',\n"
     ]
    }
   ],
   "source": [
    "aemo_emission_df = pd.DataFrame()\n",
    "for year in range(2017,2024):\n",
    "    temp_df = read_and_process_aemo_gen_emission(file_path_onedrive,YearMonthFY,year)\n",
    "    aemo_emission_df = pd.concat([aemo_emission_df,temp_df])\n",
    "aemo_emission_df = aemo_emission_df.groupby(by=['REGIONID','FY','Year','Month'],as_index=False)[['ACTUAL_GEN','EMISSION']].sum()"
   ]
  },
  {
   "cell_type": "code",
   "execution_count": 17,
   "id": "67bb105a",
   "metadata": {
    "ExecuteTime": {
     "end_time": "2024-07-01T03:27:01.947341Z",
     "start_time": "2024-07-01T03:27:01.935263Z"
    }
   },
   "outputs": [],
   "source": [
    "aemo_emission_df.to_csv(f'{file_path_onedrive}/Electricity emission/aemo_generation_emission_ws.csv',index=False)"
   ]
  },
  {
   "cell_type": "code",
   "execution_count": null,
   "id": "974576bb",
   "metadata": {},
   "outputs": [],
   "source": []
  }
 ],
 "metadata": {
  "kernelspec": {
   "display_name": "Python 3 (ipykernel)",
   "language": "python",
   "name": "python3"
  },
  "language_info": {
   "codemirror_mode": {
    "name": "ipython",
    "version": 3
   },
   "file_extension": ".py",
   "mimetype": "text/x-python",
   "name": "python",
   "nbconvert_exporter": "python",
   "pygments_lexer": "ipython3",
   "version": "3.9.18"
  },
  "toc": {
   "base_numbering": 1,
   "nav_menu": {},
   "number_sections": true,
   "sideBar": true,
   "skip_h1_title": false,
   "title_cell": "Table of Contents",
   "title_sidebar": "Contents",
   "toc_cell": false,
   "toc_position": {},
   "toc_section_display": true,
   "toc_window_display": false
  },
  "varInspector": {
   "cols": {
    "lenName": 16,
    "lenType": 16,
    "lenVar": 40
   },
   "kernels_config": {
    "python": {
     "delete_cmd_postfix": "",
     "delete_cmd_prefix": "del ",
     "library": "var_list.py",
     "varRefreshCmd": "print(var_dic_list())"
    },
    "r": {
     "delete_cmd_postfix": ") ",
     "delete_cmd_prefix": "rm(",
     "library": "var_list.r",
     "varRefreshCmd": "cat(var_dic_list()) "
    }
   },
   "types_to_exclude": [
    "module",
    "function",
    "builtin_function_or_method",
    "instance",
    "_Feature"
   ],
   "window_display": false
  }
 },
 "nbformat": 4,
 "nbformat_minor": 5
}
