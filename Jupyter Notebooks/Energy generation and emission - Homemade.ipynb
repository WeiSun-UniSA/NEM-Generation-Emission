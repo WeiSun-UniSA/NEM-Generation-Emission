{
 "cells": [
  {
   "cell_type": "code",
   "execution_count": 1,
   "id": "18b3c67a",
   "metadata": {
    "ExecuteTime": {
     "end_time": "2024-07-01T03:21:39.328782Z",
     "start_time": "2024-07-01T03:21:38.836302Z"
    }
   },
   "outputs": [
    {
     "name": "stdout",
     "output_type": "stream",
     "text": [
      "INFO: Pandarallel will run on 8 workers.\n",
      "INFO: Pandarallel will use standard multiprocessing data transfer (pipe) to transfer data between the main process and workers.\n"
     ]
    }
   ],
   "source": [
    "import os\n",
    "import datetime\n",
    "import pandas as pd\n",
    "import math\n",
    "import zipfile\n",
    "from tqdm import tqdm\n",
    "from matplotlib import pyplot as plt\n",
    "from dateutil.relativedelta import relativedelta\n",
    "\n",
    "from pandarallel import pandarallel\n",
    "pandarallel.initialize(nb_workers=8)"
   ]
  },
  {
   "cell_type": "code",
   "execution_count": 2,
   "id": "6f2be36d",
   "metadata": {
    "ExecuteTime": {
     "end_time": "2024-07-01T03:21:40.237677Z",
     "start_time": "2024-07-01T03:21:40.233067Z"
    }
   },
   "outputs": [],
   "source": [
    "import warnings\n",
    "warnings.simplefilter(action='ignore', category=FutureWarning)\n",
    "pd.options.mode.chained_assignment = None"
   ]
  },
  {
   "cell_type": "markdown",
   "id": "e18bbad4",
   "metadata": {},
   "source": [
    "# Defiine functions"
   ]
  },
  {
   "cell_type": "code",
   "execution_count": 3,
   "id": "ae8a03ed",
   "metadata": {
    "ExecuteTime": {
     "end_time": "2024-07-01T03:21:45.482235Z",
     "start_time": "2024-07-01T03:21:45.476432Z"
    }
   },
   "outputs": [],
   "source": [
    "def get_regional_duid_mapping(file_path,regionid):\n",
    "    # Read the duid mapping table\n",
    "    # It is obtained from Brian (from AER database)\n",
    "    # Only SA1 DUIDs, covers both GENERATOR and LOAD\n",
    "    duid_mapping = pd.read_csv(f'{file_path}Reference_data/duidinfo.csv',\n",
    "                               usecols=['DUID','REGIONID','STATIONNAME','PARTICIPANTNAME',\n",
    "                                        'DISPATCHTYPE','SCHEDULE_TYPE','FUELTYPE'])\n",
    "    duid_mapping = duid_mapping[(duid_mapping['REGIONID']==regionid)]\n",
    "    return duid_mapping"
   ]
  },
  {
   "cell_type": "code",
   "execution_count": 4,
   "id": "8dc442d0",
   "metadata": {
    "ExecuteTime": {
     "end_time": "2024-06-27T05:26:44.718837Z",
     "start_time": "2024-06-27T05:26:44.712942Z"
    },
    "code_folding": [
     0
    ]
   },
   "outputs": [],
   "source": [
    "# # read duid mapping\n",
    "# def read_regional_standing_data(standing_data_path,regionid):\n",
    "#     duid_mapping = pd.read_excel(standing_data_path,\n",
    "#                                  sheet_name='{} Standing Data'.format(regionid[0:-1]),\n",
    "#                                  usecols=['{} DUID'.format(regionid),\n",
    "#                                           '{} FUELTYPE'.format(regionid),\n",
    "#                                           '{} DISPATCHTYPE'.format(regionid),\n",
    "#                                           '{} SCHEDULE_TYPE'.format(regionid)])\\\n",
    "#                      .rename(columns={'{} DUID'.format(regionid):'DUID',\n",
    "#                                       '{} FUELTYPE'.format(regionid):'FUELTYPE',\n",
    "#                                       '{} DISPATCHTYPE'.format(regionid):'DISPATCHTYPE',\n",
    "#                                       '{} SCHEDULE_TYPE'.format(regionid):'SCHEDULE_TYPE'})\n",
    "#     duid_mapping['Intermit'] = duid_mapping['FUELTYPE'].apply(lambda x: 'Y' if x in ['Wind','Solar'] else 'N')\n",
    "    \n",
    "# #     duid_mapping = duid_mapping[(duid_mapping['DISPATCHTYPE']=='GENERATOR')&\n",
    "# #                                 (duid_mapping['SCHEDULE_TYPE'].isin(['SCHEDULED','SEMI-SCHEDULED']))]\n",
    "#     return duid_mapping"
   ]
  },
  {
   "cell_type": "code",
   "execution_count": 4,
   "id": "113eafa9",
   "metadata": {
    "ExecuteTime": {
     "end_time": "2024-07-01T03:21:50.748816Z",
     "start_time": "2024-07-01T03:21:50.742731Z"
    }
   },
   "outputs": [],
   "source": [
    "def read_dispatchload(file_path,year,month):\n",
    "    temp_dispatchload = pd.read_csv(f'{file_path}/Raw_data_zipped/DISPATCHLOAD/PUBLIC_DVD_DISPATCHLOAD_{str(year)}{str(month).zfill(2)}010000.zip',\n",
    "                                    skiprows=1,\n",
    "                                    usecols=['DUID','INTERVENTION','INITIALMW','SETTLEMENTDATE','TOTALCLEARED'],\n",
    "                                    parse_dates=['SETTLEMENTDATE']).dropna(subset=['DUID'])\n",
    "    temp_dispatchload = temp_dispatchload.sort_values(by=['SETTLEMENTDATE','DUID','INTERVENTION'])\\\n",
    "                                         .drop_duplicates(subset=['SETTLEMENTDATE','DUID'],keep='last')\n",
    "    return temp_dispatchload"
   ]
  },
  {
   "cell_type": "code",
   "execution_count": 5,
   "id": "a05e5152",
   "metadata": {
    "ExecuteTime": {
     "end_time": "2024-07-01T03:21:51.514361Z",
     "start_time": "2024-07-01T03:21:51.507454Z"
    }
   },
   "outputs": [],
   "source": [
    "def read_genunits(file_path,year,month):\n",
    "    temp_genunits = pd.read_csv(f'{file_path}/Raw_data_zipped/GENUNITS/PUBLIC_DVD_GENUNITS_{str(year)}{str(month).zfill(2)}010000.zip',\n",
    "                                skiprows=1,\n",
    "                                usecols=['GENSETID','GENSETTYPE','CO2E_EMISSIONS_FACTOR','CO2E_ENERGY_SOURCE'])\\\n",
    "                      .dropna(subset=['GENSETID'])\n",
    "    temp_genunits = temp_genunits[temp_genunits['GENSETTYPE']=='GENERATOR']\n",
    "    temp_genunits = temp_genunits.rename(columns={'GENSETID':'DUID',\n",
    "                                                  'CO2E_EMISSIONS_FACTOR':'EMISSIONS_FACTOR',\n",
    "                                                  'CO2E_ENERGY_SOURCE':'ENERGY_SOURCE'})\n",
    "    return temp_genunits"
   ]
  },
  {
   "cell_type": "code",
   "execution_count": 6,
   "id": "27be529a",
   "metadata": {
    "ExecuteTime": {
     "end_time": "2024-07-01T03:21:52.537146Z",
     "start_time": "2024-07-01T03:21:52.531941Z"
    }
   },
   "outputs": [],
   "source": [
    "def read_and_process_aemo_reg(reg_file_path):\n",
    "    # Read AEMO Reg doc to fill missing DUIDs\n",
    "    AEMO_reg = pd.read_excel(reg_file_path,\n",
    "                             sheet_name='PU and Scheduled Loads',\n",
    "                             usecols=['DUID','Fuel Source - Descriptor'])\\\n",
    "                 .rename(columns={'Fuel Source - Descriptor':'ENERGY_SOURCE'})\\\n",
    "                 .drop_duplicates(subset=['DUID'])\n",
    "    return AEMO_reg"
   ]
  },
  {
   "cell_type": "code",
   "execution_count": 7,
   "id": "1d11781b",
   "metadata": {
    "ExecuteTime": {
     "end_time": "2024-07-01T03:21:54.643392Z",
     "start_time": "2024-07-01T03:21:54.635566Z"
    }
   },
   "outputs": [],
   "source": [
    "def read_rooftop_pv(file_path,year,month):\n",
    "    temp_rooftop = pd.read_csv(f'{file_path}/Raw_data_zipped/ROOFTOP_PV_ACTUAL/PUBLIC_DVD_ROOFTOP_PV_ACTUAL_{str(year)}{str(month).zfill(2)}010000.zip',\n",
    "                               skiprows=1,\n",
    "                               usecols=['INTERVAL_DATETIME','REGIONID','TYPE','POWER'],\n",
    "                               parse_dates=['INTERVAL_DATETIME'])\n",
    "    if 'DAILY' in temp_rooftop['TYPE'].unique():\n",
    "        temp_rooftop = temp_rooftop[(temp_rooftop['REGIONID'].isin(['NSW1','VIC1','QLD1','SA1','TAS1']))&\n",
    "                                    (temp_rooftop['TYPE']=='DAILY')]\n",
    "    else:\n",
    "        temp_rooftop = temp_rooftop[(temp_rooftop['REGIONID'].isin(['NSW1','VIC1','QLD1','SA1','TAS1']))&\n",
    "                                    (temp_rooftop['TYPE']=='MEASUREMENT')]\n",
    "    temp_rooftop = temp_rooftop.rename(columns={'INTERVAL_DATETIME':'TI_DATETIME'}).drop(columns=['TYPE'])\n",
    "    temp_rooftop = temp_rooftop.rename(columns={'POWER':'ROOFTOP_PV'})\n",
    "    temp_rooftop['ROOFTOP_PV_MWH'] = temp_rooftop['ROOFTOP_PV']/2\n",
    "    return temp_rooftop"
   ]
  },
  {
   "cell_type": "markdown",
   "id": "0592213e",
   "metadata": {},
   "source": [
    "# Sample case"
   ]
  },
  {
   "cell_type": "markdown",
   "id": "681709a5",
   "metadata": {},
   "source": [
    "## Data prep"
   ]
  },
  {
   "cell_type": "code",
   "execution_count": 8,
   "id": "9f42e920",
   "metadata": {
    "ExecuteTime": {
     "end_time": "2024-07-01T03:22:16.576206Z",
     "start_time": "2024-07-01T03:22:16.564825Z"
    }
   },
   "outputs": [],
   "source": [
    "# This is a mapping dict that translates AEMO's reg doc fueltype to energy source in GENUNITS\n",
    "# It is used to fill in the fueltype (and emission factor) for the missing DUIDs\n",
    "AEMO_reg_to_genunits_mapping_dict = dict()\n",
    "AEMO_reg_to_genunits_mapping_dict['Grid'] = 'Battery Storage'\n",
    "AEMO_reg_to_genunits_mapping_dict['Water'] = 'Hydro'\n",
    "AEMO_reg_to_genunits_mapping_dict['Solar'] = 'Solar'\n",
    "AEMO_reg_to_genunits_mapping_dict['Solar '] = 'Solar'\n",
    "AEMO_reg_to_genunits_mapping_dict['Landfill Methane / Landfill Gas'] = 'Landfill biogas methane'\n",
    "AEMO_reg_to_genunits_mapping_dict['Diesel'] = 'Diesel oil'\n",
    "AEMO_reg_to_genunits_mapping_dict['Waste Coal Mine Gas'] = 'Coal mine waste gas'\n",
    "AEMO_reg_to_genunits_mapping_dict['Wind'] = 'Wind'\n",
    "AEMO_reg_to_genunits_mapping_dict['Natural Gas'] = 'Natural Gas (Pipeline)'\n",
    "AEMO_reg_to_genunits_mapping_dict['Black Coal'] = 'Black coal'\n",
    "AEMO_reg_to_genunits_mapping_dict['Coal Seam Methane'] = 'Coal seam methane'\n",
    "AEMO_reg_to_genunits_mapping_dict['Bagasse'] = 'Bagasse'\n",
    "AEMO_reg_to_genunits_mapping_dict['Biogas - sludge'] = 'Other Biofuels'\n",
    "AEMO_reg_to_genunits_mapping_dict['Solar'] = 'Solar'\n",
    "AEMO_reg_to_genunits_mapping_dict['Natural Gas / Diesel'] = 'Natural Gas (Pipeline)'\n",
    "AEMO_reg_to_genunits_mapping_dict['Brown Coal'] = 'Brown coal'\n",
    "AEMO_reg_to_genunits_mapping_dict['solar'] = 'Solar'\n",
    "AEMO_reg_to_genunits_mapping_dict['Kerosene'] = 'Kerosene - non aviation'\n",
    "AEMO_reg_to_genunits_mapping_dict['Sewerage / Waste Water'] = 'Other Biofuels'\n",
    "AEMO_reg_to_genunits_mapping_dict['Natural Gas / Fuel Oil'] = 'Natural Gas (Pipeline)'\n",
    "AEMO_reg_to_genunits_mapping_dict['Gas'] = 'Natural Gas (Pipeline)'\n",
    "AEMO_reg_to_genunits_mapping_dict['Ethane'] = 'Other'"
   ]
  },
  {
   "cell_type": "code",
   "execution_count": 9,
   "id": "ee6b0efa",
   "metadata": {
    "ExecuteTime": {
     "end_time": "2024-07-01T03:22:17.266842Z",
     "start_time": "2024-07-01T03:22:17.259497Z"
    }
   },
   "outputs": [],
   "source": [
    "# Put detaied energy source into a broader category\n",
    "# Allows: Black coal, Brown coal, Gas, Hydro, Renewable, Other\n",
    "energy_source_broad_mapping_dict = dict()\n",
    "energy_source_broad_mapping_dict['Black coal'] = 'Black coal'\n",
    "energy_source_broad_mapping_dict['Brown coal'] = 'Brown coal'\n",
    "energy_source_broad_mapping_dict['Hydro'] = 'Hydro'\n",
    "energy_source_broad_mapping_dict['Natural Gas (Pipeline)'] = 'Gas'\n",
    "energy_source_broad_mapping_dict['Solar'] = 'Renewable'\n",
    "energy_source_broad_mapping_dict['Wind'] = 'Renewable'\n",
    "energy_source_broad_mapping_dict['Battery Storage'] = 'Other'\n",
    "energy_source_broad_mapping_dict['Landfill biogas methane'] = 'Other'\n",
    "energy_source_broad_mapping_dict['Diesel oil'] = 'Other'\n",
    "energy_source_broad_mapping_dict['Coal mine waste gas'] = 'Other'\n",
    "energy_source_broad_mapping_dict['Coal seam methane'] = 'Other'\n",
    "energy_source_broad_mapping_dict['Bagasse'] = 'Other'\n",
    "energy_source_broad_mapping_dict['Other Biofuels'] = 'Other'\n",
    "energy_source_broad_mapping_dict['Kerosene - non aviation'] = 'Other'\n",
    "energy_source_broad_mapping_dict['Other'] = 'Other'\n",
    "energy_source_broad_mapping_dict['PV'] = 'Rooftop PV'"
   ]
  },
  {
   "cell_type": "code",
   "execution_count": 10,
   "id": "c0a86452",
   "metadata": {
    "ExecuteTime": {
     "end_time": "2024-07-01T03:22:18.786454Z",
     "start_time": "2024-07-01T03:22:18.781247Z"
    }
   },
   "outputs": [],
   "source": [
    "file_path = '/Volumes/EnergyData/AER/'\n",
    "standing_data_path = f'{file_path}Economic_withholding/Reference_data/duidinfo.csv'\n",
    "reg_file_path = f'{file_path}Reference_data/NEM Registration and Exemption List.xlsx'"
   ]
  },
  {
   "cell_type": "code",
   "execution_count": 11,
   "id": "e0b1ab87",
   "metadata": {
    "ExecuteTime": {
     "end_time": "2024-07-01T03:22:19.720448Z",
     "start_time": "2024-07-01T03:22:19.589040Z"
    }
   },
   "outputs": [],
   "source": [
    "# Get YearMonth to FY mapping dict\n",
    "YearMonthFY = pd.read_excel(f'{file_path}Reference_data/duidinfo_SRMC.xlsx',\n",
    "                         sheet_name='YearMonthFY').set_index(['Year','Month'])['FY'].to_dict()"
   ]
  },
  {
   "cell_type": "code",
   "execution_count": 12,
   "id": "56bbc144",
   "metadata": {
    "ExecuteTime": {
     "end_time": "2024-07-01T03:22:27.125610Z",
     "start_time": "2024-07-01T03:22:26.901461Z"
    }
   },
   "outputs": [],
   "source": [
    "# Read and process AEMO reg list\n",
    "aemo_reg = read_and_process_aemo_reg(reg_file_path)\n",
    "aemo_reg = aemo_reg[~aemo_reg['ENERGY_SOURCE'].isin([' ','-'])&\n",
    "                    ~aemo_reg['ENERGY_SOURCE'].isna()]\n",
    "aemo_reg['ENERGY_SOURCE'] = aemo_reg['ENERGY_SOURCE'].apply(lambda x:AEMO_reg_to_genunits_mapping_dict[x])"
   ]
  },
  {
   "cell_type": "code",
   "execution_count": 13,
   "id": "f2d21f81",
   "metadata": {
    "ExecuteTime": {
     "end_time": "2024-07-01T03:22:27.983102Z",
     "start_time": "2024-07-01T03:22:27.936294Z"
    }
   },
   "outputs": [],
   "source": [
    "# Read duid mapping\n",
    "duid_mapping = pd.DataFrame()\n",
    "for regionid in ['NSW1','QLD1','VIC1','SA1','TAS1']:\n",
    "    duid_mapping = pd.concat([duid_mapping,get_regional_duid_mapping(file_path,regionid)])"
   ]
  },
  {
   "cell_type": "code",
   "execution_count": 27,
   "id": "50e1dd37",
   "metadata": {
    "ExecuteTime": {
     "end_time": "2024-07-01T05:17:21.207767Z",
     "start_time": "2024-07-01T05:17:21.181847Z"
    }
   },
   "outputs": [],
   "source": [
    "def monthly_generation_and_emission(file_path,duid_mapping,aemo_reg,energy_source_broad_mapping_dict,\n",
    "                                    YearMonthFY,year,month):\n",
    "    \n",
    "    def match_energy_source(source):\n",
    "        if source == 'Gas':\n",
    "            source_use = 'Natural Gas (Pipeline)'\n",
    "        elif source == 'Coal-Black':\n",
    "            source_use = 'Black coal'\n",
    "        elif source == 'Diesel':\n",
    "            source_use = 'Diesel oil'\n",
    "        elif source == 'Liquid':\n",
    "            source_use = 'Diesel oil'\n",
    "        else:\n",
    "            source_use = source\n",
    "        return source_use\n",
    "    \n",
    "    temp_dispatchload = read_dispatchload(file_path,year,month)\n",
    "    temp_genunits = read_genunits(file_path,year,month)\n",
    "    temp = temp_dispatchload.merge(right=temp_genunits.drop(columns=['ENERGY_SOURCE']),\n",
    "                                   on=['DUID'],\n",
    "                                   how='left')\\\n",
    "                            .merge(right=duid_mapping,\n",
    "                                   on=['DUID'],\n",
    "                                   how='left')\\\n",
    "                            .merge(right=aemo_reg,\n",
    "                                   on=['DUID'],\n",
    "                                   how='left')\n",
    "    temp = temp[temp['DISPATCHTYPE']!='LOAD']\n",
    "    temp = temp[~temp['FUELTYPE'].isna()]\n",
    "    # Fix duids with no energy source\n",
    "    duids_to_fix = temp[temp['ENERGY_SOURCE'].isna()]['DUID'].unique()\n",
    "    temp['ENERGY_SOURCE'] = temp.parallel_apply(lambda row: row['FUELTYPE'] if row['DUID'] in duids_to_fix else row['ENERGY_SOURCE'],axis=1)\n",
    "    \n",
    "    # Match the energy sources in GENUNITS\n",
    "    temp['ENERGY_SOURCE'] = temp['ENERGY_SOURCE'].parallel_apply(lambda x: match_energy_source(x))\n",
    "    \n",
    "    # Fill duids with mission emission factor\n",
    "    duids_to_fill = temp[temp['EMISSIONS_FACTOR'].isna()]['DUID'].unique()\n",
    "    ave_emission = temp.groupby(by=['ENERGY_SOURCE','DUID'],as_index=False)[['EMISSIONS_FACTOR']]\\\n",
    "                        .mean()\\\n",
    "                        .groupby(by=['ENERGY_SOURCE'])['EMISSIONS_FACTOR']\\\n",
    "                        .mean().to_dict()\n",
    "    temp['EMISSIONS_FACTOR'] = temp.parallel_apply(lambda row: ave_emission[row['ENERGY_SOURCE']] if row['DUID'] in duids_to_fill else row['EMISSIONS_FACTOR'], axis=1)\n",
    "    # Calculate generation and emission\n",
    "    temp['ACTUAL_GEN'] = temp['INITIALMW']/12\n",
    "    temp['EMISSION'] = temp['EMISSIONS_FACTOR']*temp['ACTUAL_GEN']\n",
    "    \n",
    "#     print(temp[temp['DUID'].isin(duids_to_fix)]['ACTUAL_GEN'].sum())\n",
    "    \n",
    "    # Shift the timestamp (this way is easier for processing data on a monthly basis)\n",
    "    temp['SETTLEMENTDATE'] = temp['SETTLEMENTDATE'].parallel_apply(lambda x:x-datetime.timedelta(minutes=5))\n",
    "    # Clean the formatted data\n",
    "    temp = temp[(temp['SETTLEMENTDATE']>=datetime.datetime(year,month,1,0,0,0))&\n",
    "                (temp['SETTLEMENTDATE']<datetime.datetime(year,month,1,0,0,0)+relativedelta(months=1))]\\\n",
    "                .drop_duplicates()\n",
    "    \n",
    "    # Return aggregated results\n",
    "    temp_result = temp.groupby(by=['REGIONID','ENERGY_SOURCE'],as_index=False)[['EMISSION','ACTUAL_GEN']].sum()\n",
    "    \n",
    "    # Read and process PV generation\n",
    "    temp_pv = read_rooftop_pv(file_path,year,month).drop(columns=['ROOFTOP_PV'])\\\n",
    "                                                .rename(columns={'ROOFTOP_PV_MWH':'ACTUAL_GEN'})\\\n",
    "                                                .drop_duplicates()\n",
    "    temp_pv = temp_pv[(temp_pv['TI_DATETIME']>=datetime.datetime(year,month,1,0,30,0))&\n",
    "                      (temp_pv['TI_DATETIME']<=datetime.datetime(year,month,1,0,0,0)+relativedelta(months=1))]\n",
    "    temp_pv = temp_pv.groupby(by=['REGIONID'],as_index=False)[['ACTUAL_GEN']].sum()\n",
    "    temp_pv['ENERGY_SOURCE'] = 'PV'\n",
    "    temp_pv['EMISSION'] = 0\n",
    "    temp_pv = temp_pv[['REGIONID','ENERGY_SOURCE','EMISSION','ACTUAL_GEN']]\n",
    "    \n",
    "    # Combine data\n",
    "    temp_result = pd.concat([temp_result,temp_pv])\n",
    "    \n",
    "    # Tag with broader energy source type\n",
    "    temp_result['FUEL_CAT'] = temp_result['ENERGY_SOURCE'].parallel_apply(lambda x: energy_source_broad_mapping_dict[x])\n",
    "    \n",
    "    # Tag year and month\n",
    "    temp_result['Year'] = year\n",
    "    temp_result['Month'] = month\n",
    "    temp_result['FY'] = YearMonthFY[(year,month)]    \n",
    "    \n",
    "    return temp_result"
   ]
  },
  {
   "cell_type": "code",
   "execution_count": 28,
   "id": "cb83acb4",
   "metadata": {
    "ExecuteTime": {
     "end_time": "2024-07-01T05:22:03.075264Z",
     "start_time": "2024-07-01T05:17:21.945851Z"
    }
   },
   "outputs": [
    {
     "name": "stdout",
     "output_type": "stream",
     "text": [
      "1 Done\n",
      "2 Done\n",
      "3 Done\n",
      "4 Done\n",
      "5 Done\n",
      "6 Done\n",
      "7 Done\n",
      "8 Done\n",
      "9 Done\n",
      "10 Done\n",
      "11 Done\n",
      "12 Done\n"
     ]
    }
   ],
   "source": [
    "# test_2023 = pd.DataFrame()\n",
    "# for month in range(1,13):\n",
    "#     temp_result = monthly_generation_and_emission(file_path,duid_mapping,aemo_reg,energy_source_broad_mapping_dict,\n",
    "#                                                   YearMonthFY,2023,month)\n",
    "#     test_2023 = pd.concat([test_2023,temp_result])\n",
    "#     print(month,'Done')"
   ]
  },
  {
   "cell_type": "code",
   "execution_count": 29,
   "id": "91db2b73",
   "metadata": {
    "ExecuteTime": {
     "end_time": "2024-07-01T05:23:28.442681Z",
     "start_time": "2024-07-01T05:23:28.429092Z"
    }
   },
   "outputs": [
    {
     "data": {
      "text/plain": [
       "ACTUAL_GEN    1.827764e+08\n",
       "EMISSION      1.196763e+08\n",
       "dtype: float64"
      ]
     },
     "execution_count": 29,
     "metadata": {},
     "output_type": "execute_result"
    }
   ],
   "source": [
    "# test_2023[test_2023['ENERGY_SOURCE']!='PV'][['ACTUAL_GEN','EMISSION']].sum()"
   ]
  },
  {
   "cell_type": "code",
   "execution_count": null,
   "id": "df64fd0a",
   "metadata": {
    "ExecuteTime": {
     "end_time": "2024-06-27T05:25:40.239062Z",
     "start_time": "2024-06-27T05:25:40.216985Z"
    }
   },
   "outputs": [],
   "source": [
    "# temp_result"
   ]
  },
  {
   "cell_type": "markdown",
   "id": "79ed05e5",
   "metadata": {},
   "source": [
    "## Monthly data workflow"
   ]
  },
  {
   "cell_type": "code",
   "execution_count": 17,
   "id": "8f409e59-0906-4ecd-b04e-9324d9270de8",
   "metadata": {
    "ExecuteTime": {
     "end_time": "2024-06-27T05:55:32.221159Z",
     "start_time": "2024-06-27T05:26:58.361540Z"
    },
    "scrolled": true
   },
   "outputs": [
    {
     "name": "stdout",
     "output_type": "stream",
     "text": [
      "2017 7 Done.\n",
      "2017 8 Done.\n",
      "2017 9 Done.\n",
      "2017 10 Done.\n",
      "2017 11 Done.\n",
      "2017 12 Done.\n",
      "2018 1 Done.\n",
      "2018 2 Done.\n",
      "2018 3 Done.\n",
      "2018 4 Done.\n",
      "2018 5 Done.\n",
      "2018 6 Done.\n",
      "2018 7 Done.\n",
      "2018 8 Done.\n",
      "2018 9 Done.\n",
      "2018 10 Done.\n",
      "2018 11 Done.\n",
      "2018 12 Done.\n",
      "2019 1 Done.\n",
      "2019 2 Done.\n",
      "2019 3 Done.\n",
      "2019 4 Done.\n",
      "2019 5 Done.\n",
      "2019 6 Done.\n",
      "2019 7 Done.\n",
      "2019 8 Done.\n",
      "2019 9 Done.\n",
      "2019 10 Done.\n",
      "2019 11 Done.\n",
      "2019 12 Done.\n",
      "2020 1 Done.\n",
      "2020 2 Done.\n",
      "2020 3 Done.\n",
      "2020 4 Done.\n",
      "2020 5 Done.\n",
      "2020 6 Done.\n",
      "2020 7 Done.\n",
      "2020 8 Done.\n",
      "2020 9 Done.\n",
      "2020 10 Done.\n",
      "2020 11 Done.\n",
      "2020 12 Done.\n",
      "2021 1 Done.\n",
      "2021 2 Done.\n",
      "2021 3 Done.\n",
      "2021 4 Done.\n",
      "2021 5 Done.\n",
      "2021 6 Done.\n",
      "2021 7 Done.\n",
      "2021 8 Done.\n",
      "2021 9 Done.\n",
      "2021 10 Done.\n",
      "2021 11 Done.\n",
      "2021 12 Done.\n",
      "2022 1 Done.\n",
      "2022 2 Done.\n",
      "2022 3 Done.\n",
      "2022 4 Done.\n",
      "2022 5 Done.\n",
      "2022 6 Done.\n",
      "2022 7 Done.\n",
      "2022 8 Done.\n",
      "2022 9 Done.\n",
      "2022 10 Done.\n",
      "2022 11 Done.\n",
      "2022 12 Done.\n",
      "2023 1 Done.\n",
      "2023 2 Done.\n",
      "2023 3 Done.\n",
      "2023 4 Done.\n",
      "2023 5 Done.\n",
      "2023 6 Done.\n",
      "2023 7 Done.\n",
      "2023 8 Done.\n",
      "2023 9 Done.\n",
      "2023 10 Done.\n",
      "2023 11 Done.\n",
      "2023 12 Done.\n",
      "2024 1 Done.\n",
      "2024 2 Done.\n",
      "2024 3 Done.\n",
      "2024 4 No data.\n",
      "2024 5 No data.\n",
      "2024 6 No data.\n",
      "2024 7 No data.\n",
      "2024 8 No data.\n",
      "2024 9 No data.\n",
      "2024 10 No data.\n",
      "2024 11 No data.\n",
      "2024 12 No data.\n"
     ]
    }
   ],
   "source": [
    "result_df = pd.DataFrame()\n",
    "for year in range(2017,2025):\n",
    "    if year == 2017:\n",
    "        for month in range(7,13):\n",
    "            try:\n",
    "                temp_result = monthly_generation_and_emission(file_path,duid_mapping,aemo_reg,energy_source_broad_mapping_dict,\n",
    "                                                              YearMonthFY,year,month)\n",
    "                result_df = pd.concat([result_df,temp_result])\n",
    "                print(year,month,'Done.')\n",
    "            except:\n",
    "                print(year,month,'No data.')\n",
    "    elif year in range(2018,2025):\n",
    "        for month in range(1,13):\n",
    "            try:\n",
    "                temp_result = monthly_generation_and_emission(file_path,duid_mapping,aemo_reg,energy_source_broad_mapping_dict,\n",
    "                                                              YearMonthFY,year,month)\n",
    "                result_df = pd.concat([result_df,temp_result])\n",
    "                print(year,month,'Done.')\n",
    "            except:\n",
    "                print(year,month,'No data.')            "
   ]
  },
  {
   "cell_type": "code",
   "execution_count": 18,
   "id": "0d7f86f2",
   "metadata": {
    "ExecuteTime": {
     "end_time": "2024-06-27T06:20:00.560788Z",
     "start_time": "2024-06-27T06:20:00.526611Z"
    }
   },
   "outputs": [],
   "source": [
    "result_df.to_csv('/Volumes/System/Users/weisun/OneDrive/AER work/Generation_emission_plotting.csv',index=False)"
   ]
  },
  {
   "cell_type": "code",
   "execution_count": null,
   "id": "dcaf9c0a",
   "metadata": {},
   "outputs": [],
   "source": []
  }
 ],
 "metadata": {
  "kernelspec": {
   "display_name": "Python 3 (ipykernel)",
   "language": "python",
   "name": "python3"
  },
  "language_info": {
   "codemirror_mode": {
    "name": "ipython",
    "version": 3
   },
   "file_extension": ".py",
   "mimetype": "text/x-python",
   "name": "python",
   "nbconvert_exporter": "python",
   "pygments_lexer": "ipython3",
   "version": "3.9.18"
  },
  "toc": {
   "base_numbering": 1,
   "nav_menu": {},
   "number_sections": true,
   "sideBar": true,
   "skip_h1_title": false,
   "title_cell": "Table of Contents",
   "title_sidebar": "Contents",
   "toc_cell": false,
   "toc_position": {
    "height": "calc(100% - 180px)",
    "left": "10px",
    "top": "150px",
    "width": "183.2px"
   },
   "toc_section_display": true,
   "toc_window_display": true
  },
  "varInspector": {
   "cols": {
    "lenName": 16,
    "lenType": 16,
    "lenVar": 40
   },
   "kernels_config": {
    "python": {
     "delete_cmd_postfix": "",
     "delete_cmd_prefix": "del ",
     "library": "var_list.py",
     "varRefreshCmd": "print(var_dic_list())"
    },
    "r": {
     "delete_cmd_postfix": ") ",
     "delete_cmd_prefix": "rm(",
     "library": "var_list.r",
     "varRefreshCmd": "cat(var_dic_list()) "
    }
   },
   "types_to_exclude": [
    "module",
    "function",
    "builtin_function_or_method",
    "instance",
    "_Feature"
   ],
   "window_display": false
  }
 },
 "nbformat": 4,
 "nbformat_minor": 5
}
