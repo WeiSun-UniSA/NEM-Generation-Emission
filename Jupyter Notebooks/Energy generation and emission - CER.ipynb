{
 "cells": [
  {
   "cell_type": "code",
   "execution_count": 1,
   "id": "f3c0ae30",
   "metadata": {
    "ExecuteTime": {
     "end_time": "2024-07-01T06:43:19.865974Z",
     "start_time": "2024-07-01T06:43:19.590082Z"
    }
   },
   "outputs": [],
   "source": [
    "import pandas as pd\n",
    "import datetime"
   ]
  },
  {
   "cell_type": "code",
   "execution_count": 2,
   "id": "5cae1b54",
   "metadata": {
    "ExecuteTime": {
     "end_time": "2024-07-01T06:43:19.877936Z",
     "start_time": "2024-07-01T06:43:19.876381Z"
    }
   },
   "outputs": [],
   "source": [
    "file_path_onedrive = '/Volumes/System/Users/weisun/OneDrive/AER work'\n",
    "file_path_external = '/Volumes/EnergyData/AER'"
   ]
  },
  {
   "cell_type": "code",
   "execution_count": 3,
   "id": "78f2b43a",
   "metadata": {
    "ExecuteTime": {
     "end_time": "2024-07-01T06:43:19.880944Z",
     "start_time": "2024-07-01T06:43:19.878658Z"
    }
   },
   "outputs": [],
   "source": [
    "fueltype_mapping_dict = dict()\n",
    "fueltype_mapping_dict['Wind'] = 'Renewable'\n",
    "fueltype_mapping_dict['Solar'] = 'Renewable'\n",
    "fueltype_mapping_dict['Hydro'] = 'Hydro'\n",
    "fueltype_mapping_dict['Gas'] = 'Gas'\n",
    "fueltype_mapping_dict['Black Coal'] = 'Black coal'\n",
    "fueltype_mapping_dict['Brown Coal'] = 'Brown coal'\n",
    "fueltype_mapping_dict['Coal Seam Methane'] = 'Other'\n",
    "fueltype_mapping_dict['Bagasse'] = 'Other'\n",
    "fueltype_mapping_dict['Waste Coal Mine Gas'] = 'Other'\n",
    "fueltype_mapping_dict['Landfill Gas'] = 'Other'\n",
    "fueltype_mapping_dict['Battery'] = 'Other'\n",
    "fueltype_mapping_dict['Diesel'] = 'Other'\n",
    "fueltype_mapping_dict['Kerosene'] = 'Other'\n",
    "fueltype_mapping_dict['Biofuel'] = 'Other'\n",
    "fueltype_mapping_dict['Biogas'] = 'Other'\n",
    "fueltype_mapping_dict['Sludge Biogas'] = 'Other'\n"
   ]
  },
  {
   "cell_type": "code",
   "execution_count": 4,
   "id": "72a86b03",
   "metadata": {
    "ExecuteTime": {
     "end_time": "2024-07-01T06:43:19.884006Z",
     "start_time": "2024-07-01T06:43:19.882362Z"
    }
   },
   "outputs": [],
   "source": [
    "state_regionid_mapping_dict = dict()\n",
    "state_regionid_mapping_dict['NSW'] = 'NSW1'\n",
    "state_regionid_mapping_dict['ACT'] = 'NSW1'\n",
    "state_regionid_mapping_dict['VIC'] = 'VIC1'\n",
    "state_regionid_mapping_dict['QLD'] = 'QLD1'\n",
    "state_regionid_mapping_dict['SA'] = 'SA1'\n",
    "state_regionid_mapping_dict['TAS'] = 'TAS1'"
   ]
  },
  {
   "cell_type": "code",
   "execution_count": 5,
   "id": "34681770",
   "metadata": {
    "ExecuteTime": {
     "end_time": "2024-07-01T06:43:19.886774Z",
     "start_time": "2024-07-01T06:43:19.884748Z"
    }
   },
   "outputs": [],
   "source": [
    "def parse_string_number(string):\n",
    "    value = 0\n",
    "    chunked = string.split(',')\n",
    "    chunked = [int(chunk) for chunk in chunked]\n",
    "    chunk_length = len(chunked)\n",
    "    for i in range(chunk_length):\n",
    "#         print(chunked[i])\n",
    "        value += chunked[i]*(1000**(chunk_length-(i+1)))\n",
    "    return value"
   ]
  },
  {
   "cell_type": "code",
   "execution_count": 12,
   "id": "f5523579",
   "metadata": {
    "ExecuteTime": {
     "end_time": "2024-07-01T06:46:06.016202Z",
     "start_time": "2024-07-01T06:46:06.004767Z"
    }
   },
   "outputs": [],
   "source": [
    "def read_and_process_cer_gen_emission(file_path_onedrive,\n",
    "                                      fueltype_mapping_dict,\n",
    "                                      state_regionid_mapping_dict,\n",
    "                                      FY):\n",
    "    temp_df = pd.read_csv(f'{file_path_onedrive}/Electricity emission/CER_generation_and_emission/greenhouse-and-energy-information-designated-generation-facility-{FY}.csv',\n",
    "                          usecols=['State','ACTUAL_GEN','EMISSION','Grid','FUELTYPE'],encoding='utf-8',encoding_errors='ignore')\n",
    "    temp_df = temp_df[(temp_df['Grid']=='NEM')&\n",
    "                      (temp_df['State'].isin(['NSW','QLD','VIC','SA','TAS','ACT']))]\n",
    "    temp_df['ACTUAL_GEN'] = temp_df['ACTUAL_GEN'].apply(lambda x: parse_string_number(x))\n",
    "    temp_df['EMISSION'] = temp_df['EMISSION'].apply(lambda x: parse_string_number(x))\n",
    "    temp_df['FUEL_CAT'] = temp_df['FUELTYPE'].apply(lambda x: fueltype_mapping_dict[x])\n",
    "    \n",
    "    temp_df = temp_df.rename(columns={'State':'REGIONID'})\n",
    "    temp_df['REGIONID'] = temp_df['REGIONID'].apply(lambda x:state_regionid_mapping_dict[x])\n",
    "    \n",
    "    temp_df = temp_df.groupby(by=['REGIONID','FUEL_CAT','FUELTYPE'],as_index=False)[['ACTUAL_GEN','EMISSION']].sum()\n",
    "    temp_df['FY'] = FY\n",
    "    return temp_df"
   ]
  },
  {
   "cell_type": "code",
   "execution_count": 7,
   "id": "e4ba06c4",
   "metadata": {
    "ExecuteTime": {
     "end_time": "2024-07-01T06:43:19.897029Z",
     "start_time": "2024-07-01T06:43:19.891203Z"
    }
   },
   "outputs": [],
   "source": [
    "# temp_df = read_and_process_cer_gen_emission(file_path_onedrive,\n",
    "#                                             fueltype_mapping_dict,state_regionid_mapping_dict,\n",
    "#                                             'FY2022_2023')"
   ]
  },
  {
   "cell_type": "code",
   "execution_count": 13,
   "id": "00c7e3cd",
   "metadata": {
    "ExecuteTime": {
     "end_time": "2024-07-01T06:46:07.688758Z",
     "start_time": "2024-07-01T06:46:07.630586Z"
    }
   },
   "outputs": [],
   "source": [
    "FY_list = ['FY2017_2018',\n",
    "           'FY2018_2019',\n",
    "           'FY2019_2020',\n",
    "           'FY2020_2021',\n",
    "           'FY2021_2022',\n",
    "           'FY2022_2023']\n",
    "\n",
    "cer_emission_df = pd.DataFrame()\n",
    "for FY in FY_list:\n",
    "    temp_df = read_and_process_cer_gen_emission(file_path_onedrive,\n",
    "                                                fueltype_mapping_dict,\n",
    "                                                state_regionid_mapping_dict,\n",
    "                                                FY)\n",
    "    cer_emission_df = pd.concat([cer_emission_df,temp_df])"
   ]
  },
  {
   "cell_type": "code",
   "execution_count": 14,
   "id": "67bb105a",
   "metadata": {
    "ExecuteTime": {
     "end_time": "2024-07-01T06:46:08.807660Z",
     "start_time": "2024-07-01T06:46:08.800254Z"
    }
   },
   "outputs": [],
   "source": [
    "cer_emission_df.to_csv(f'{file_path_onedrive}/Electricity emission/cer_generation_emission_WS.csv',index=False)"
   ]
  },
  {
   "cell_type": "code",
   "execution_count": null,
   "id": "974576bb",
   "metadata": {},
   "outputs": [],
   "source": []
  }
 ],
 "metadata": {
  "kernelspec": {
   "display_name": "Python 3 (ipykernel)",
   "language": "python",
   "name": "python3"
  },
  "language_info": {
   "codemirror_mode": {
    "name": "ipython",
    "version": 3
   },
   "file_extension": ".py",
   "mimetype": "text/x-python",
   "name": "python",
   "nbconvert_exporter": "python",
   "pygments_lexer": "ipython3",
   "version": "3.9.18"
  },
  "toc": {
   "base_numbering": 1,
   "nav_menu": {},
   "number_sections": true,
   "sideBar": true,
   "skip_h1_title": false,
   "title_cell": "Table of Contents",
   "title_sidebar": "Contents",
   "toc_cell": false,
   "toc_position": {},
   "toc_section_display": true,
   "toc_window_display": false
  },
  "varInspector": {
   "cols": {
    "lenName": 16,
    "lenType": 16,
    "lenVar": 40
   },
   "kernels_config": {
    "python": {
     "delete_cmd_postfix": "",
     "delete_cmd_prefix": "del ",
     "library": "var_list.py",
     "varRefreshCmd": "print(var_dic_list())"
    },
    "r": {
     "delete_cmd_postfix": ") ",
     "delete_cmd_prefix": "rm(",
     "library": "var_list.r",
     "varRefreshCmd": "cat(var_dic_list()) "
    }
   },
   "types_to_exclude": [
    "module",
    "function",
    "builtin_function_or_method",
    "instance",
    "_Feature"
   ],
   "window_display": false
  }
 },
 "nbformat": 4,
 "nbformat_minor": 5
}
